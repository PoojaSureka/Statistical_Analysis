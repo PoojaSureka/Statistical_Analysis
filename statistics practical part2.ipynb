{
 "cells": [
  {
   "cell_type": "code",
   "execution_count": 287,
   "metadata": {},
   "outputs": [],
   "source": [
    "import numpy as np\n",
    "import pandas as pd\n",
    "import seaborn as sns\n",
    "from statistics import mode\n",
    "import warnings\n",
    "\n",
    "warnings.filterwarnings(\"ignore\")\n",
    "import scipy.stats as stats\n",
    "\n"
   ]
  },
  {
   "cell_type": "code",
   "execution_count": 251,
   "metadata": {},
   "outputs": [
    {
     "data": {
      "text/plain": [
       "array([10, 18, 13, 19, 10, 11, 18, 11, 18, 14, 13, 14, 11, 14, 10, 19, 17,\n",
       "       17, 18, 19, 13, 10, 14, 18, 16, 19, 12, 17, 13, 11, 19, 16, 10, 19,\n",
       "       11, 11, 17, 16, 19, 10, 18, 14, 18, 10, 18, 10, 12, 16, 10, 11])"
      ]
     },
     "execution_count": 251,
     "metadata": {},
     "output_type": "execute_result"
    }
   ],
   "source": [
    "np.random.randint(10, 20, 50)"
   ]
  },
  {
   "cell_type": "code",
   "execution_count": 252,
   "metadata": {},
   "outputs": [],
   "source": [
    "population = np.random.randint(10, 20, 50)"
   ]
  },
  {
   "cell_type": "code",
   "execution_count": 253,
   "metadata": {},
   "outputs": [
    {
     "data": {
      "text/plain": [
       "array([12, 15, 18, 10, 16, 12, 15, 11, 18, 13, 10, 16, 17, 18, 11, 10, 12,\n",
       "       14, 19, 16, 10, 16, 18, 19, 14, 15, 16, 16, 15, 15, 11, 10, 12, 13,\n",
       "       14, 10, 13, 16, 11, 11, 10, 11, 15, 13, 17, 15, 18, 13, 19, 11])"
      ]
     },
     "execution_count": 253,
     "metadata": {},
     "output_type": "execute_result"
    }
   ],
   "source": [
    "population"
   ]
  },
  {
   "cell_type": "code",
   "execution_count": 254,
   "metadata": {},
   "outputs": [
    {
     "data": {
      "text/plain": [
       "50"
      ]
     },
     "execution_count": 254,
     "metadata": {},
     "output_type": "execute_result"
    }
   ],
   "source": [
    "len(population)"
   ]
  },
  {
   "cell_type": "code",
   "execution_count": 255,
   "metadata": {},
   "outputs": [
    {
     "data": {
      "text/plain": [
       "14.0"
      ]
     },
     "execution_count": 255,
     "metadata": {},
     "output_type": "execute_result"
    }
   ],
   "source": [
    "population.mean()"
   ]
  },
  {
   "cell_type": "code",
   "execution_count": 256,
   "metadata": {},
   "outputs": [
    {
     "data": {
      "text/plain": [
       "14.0"
      ]
     },
     "execution_count": 256,
     "metadata": {},
     "output_type": "execute_result"
    }
   ],
   "source": [
    "np.mean(population)"
   ]
  },
  {
   "cell_type": "code",
   "execution_count": 257,
   "metadata": {},
   "outputs": [
    {
     "data": {
      "text/plain": [
       "14.0"
      ]
     },
     "execution_count": 257,
     "metadata": {},
     "output_type": "execute_result"
    }
   ],
   "source": [
    "np.median(population)"
   ]
  },
  {
   "cell_type": "code",
   "execution_count": 258,
   "metadata": {},
   "outputs": [
    {
     "data": {
      "text/plain": [
       "15"
      ]
     },
     "execution_count": 258,
     "metadata": {},
     "output_type": "execute_result"
    }
   ],
   "source": [
    "mode(population)"
   ]
  },
  {
   "cell_type": "code",
   "execution_count": 259,
   "metadata": {},
   "outputs": [
    {
     "name": "stdout",
     "output_type": "stream",
     "text": [
      "Mean of the population is 14.0\n",
      "Median of the population is 14.0\n",
      "Mode of the population is 15\n"
     ]
    }
   ],
   "source": [
    "print(f\"Mean of the population is {np.mean(population)}\")\n",
    "print(f\"Median of the population is {np.median(population)}\")\n",
    "print(f\"Mode of the population is {mode(population)}\")"
   ]
  },
  {
   "cell_type": "code",
   "execution_count": 260,
   "metadata": {},
   "outputs": [],
   "source": [
    "### selecting the sample from the population\n",
    "\n",
    "sample = np.random.choice(population,20)"
   ]
  },
  {
   "cell_type": "code",
   "execution_count": 261,
   "metadata": {},
   "outputs": [
    {
     "data": {
      "text/plain": [
       "array([12, 16, 17, 16, 18, 12, 12, 10, 15, 19, 11, 14, 15, 12, 11, 13, 16,\n",
       "       18, 16, 18])"
      ]
     },
     "execution_count": 261,
     "metadata": {},
     "output_type": "execute_result"
    }
   ],
   "source": [
    "sample"
   ]
  },
  {
   "cell_type": "code",
   "execution_count": 262,
   "metadata": {},
   "outputs": [
    {
     "name": "stdout",
     "output_type": "stream",
     "text": [
      "Mean of the population is 14.55\n",
      "Median of the population is 15.0\n",
      "Mode of the population is 12\n"
     ]
    }
   ],
   "source": [
    "print(f\"Mean of the population is {np.mean(sample)}\")\n",
    "print(f\"Median of the population is {np.median(sample)}\")\n",
    "print(f\"Mode of the population is {mode(sample)}\")"
   ]
  },
  {
   "cell_type": "code",
   "execution_count": 263,
   "metadata": {},
   "outputs": [],
   "source": [
    "sample1 = np.random.choice(population,20)\n",
    "sample2 = np.random.choice(population,20)\n",
    "sample3 = np.random.choice(population,20)\n",
    "sample4 = np.random.choice(population,20)"
   ]
  },
  {
   "cell_type": "code",
   "execution_count": 264,
   "metadata": {},
   "outputs": [
    {
     "name": "stdout",
     "output_type": "stream",
     "text": [
      "[15 12 18 12 11 18 19 17 17 19 15 17 15 16 11 15 13 13 13 17]\n",
      "============================================================\n",
      "[11 16 15 16 10 12 11 11 14 15 14 10 15 16 15 16 10 17 16 12]\n",
      "============================================================\n",
      "[11 13 11 11 16 10 18 18 13 13 11 12 15 12 10 10 19 13 14 13]\n",
      "============================================================\n",
      "[18 10 15 11 10 15 18 14 10 13 10 18 11 10 12 17 12 11 16 12]\n"
     ]
    }
   ],
   "source": [
    "print(sample1)\n",
    "print(60* \"=\")\n",
    "print(sample2)\n",
    "print(60* \"=\")\n",
    "print(sample3)\n",
    "print(60* \"=\")\n",
    "print(sample4)"
   ]
  },
  {
   "cell_type": "code",
   "execution_count": 265,
   "metadata": {},
   "outputs": [
    {
     "name": "stdout",
     "output_type": "stream",
     "text": [
      "[15.15, 13.6, 13.15, 13.15]\n"
     ]
    }
   ],
   "source": [
    "### mean of all the samples\n",
    "all_samples = []\n",
    "\n",
    "mean_of_samples = [sample1, sample2, sample3, sample4]\n",
    "for sample in mean_of_samples:\n",
    "    all_samples.append(np.mean(sample))\n",
    "\n",
    "print(all_samples)\n",
    "\n"
   ]
  },
  {
   "cell_type": "code",
   "execution_count": 266,
   "metadata": {},
   "outputs": [
    {
     "name": "stdout",
     "output_type": "stream",
     "text": [
      "[15.15, 13.6, 13.15, 13.15]\n"
     ]
    }
   ],
   "source": [
    "### mean of all the samples\n",
    "all_samples = []\n",
    "\n",
    "mean_of_samples = [sample1, sample2, sample3, sample4]\n",
    "for i in mean_of_samples:\n",
    "    all_samples.append(np.mean(i))\n",
    "\n",
    "print(all_samples)"
   ]
  },
  {
   "cell_type": "markdown",
   "metadata": {},
   "source": [
    "### Central Limit Theorem"
   ]
  },
  {
   "cell_type": "code",
   "execution_count": 267,
   "metadata": {},
   "outputs": [],
   "source": [
    "population = np.random.binomial(10, 0.5, 10000)"
   ]
  },
  {
   "cell_type": "code",
   "execution_count": 268,
   "metadata": {},
   "outputs": [
    {
     "name": "stdout",
     "output_type": "stream",
     "text": [
      "[3 8 4 ... 4 5 3]\n"
     ]
    }
   ],
   "source": [
    "print(population)"
   ]
  },
  {
   "cell_type": "code",
   "execution_count": 269,
   "metadata": {},
   "outputs": [
    {
     "data": {
      "text/plain": [
       "10000"
      ]
     },
     "execution_count": 269,
     "metadata": {},
     "output_type": "execute_result"
    }
   ],
   "source": [
    "len(population)"
   ]
  },
  {
   "cell_type": "code",
   "execution_count": 270,
   "metadata": {},
   "outputs": [
    {
     "data": {
      "text/plain": [
       "<Axes: ylabel='Density'>"
      ]
     },
     "execution_count": 270,
     "metadata": {},
     "output_type": "execute_result"
    },
    {
     "data": {
      "image/png": "[encoded data removed]",
      "text/plain": [
       "<Figure size 640x480 with 1 Axes>"
      ]
     },
     "metadata": {},
     "output_type": "display_data"
    }
   ],
   "source": [
    "sns.distplot(population)"
   ]
  },
  {
   "cell_type": "code",
   "execution_count": 271,
   "metadata": {},
   "outputs": [
    {
     "data": {
      "text/plain": [
       "10000"
      ]
     },
     "execution_count": 271,
     "metadata": {},
     "output_type": "execute_result"
    }
   ],
   "source": [
    "len(population)"
   ]
  },
  {
   "cell_type": "code",
   "execution_count": 272,
   "metadata": {},
   "outputs": [
    {
     "data": {
      "text/plain": [
       "3000"
      ]
     },
     "execution_count": 272,
     "metadata": {},
     "output_type": "execute_result"
    }
   ],
   "source": [
    "int(len(population)*0.30)"
   ]
  },
  {
   "cell_type": "code",
   "execution_count": 273,
   "metadata": {},
   "outputs": [],
   "source": [
    "size = int(len(population)*0.30)"
   ]
  },
  {
   "cell_type": "code",
   "execution_count": 274,
   "metadata": {},
   "outputs": [
    {
     "data": {
      "text/plain": [
       "3000"
      ]
     },
     "execution_count": 274,
     "metadata": {},
     "output_type": "execute_result"
    }
   ],
   "source": [
    "size "
   ]
  },
  {
   "cell_type": "code",
   "execution_count": 275,
   "metadata": {},
   "outputs": [
    {
     "name": "stdout",
     "output_type": "stream",
     "text": [
      "[2 3 6 ... 6 3 3]\n",
      "[5 5 3 ... 4 7 5]\n",
      "[5 6 4 ... 5 3 5]\n",
      "[4 7 7 ... 5 5 8]\n",
      "[5 3 5 ... 4 6 4]\n",
      "[3 6 4 ... 3 7 4]\n",
      "[4 6 5 ... 5 6 5]\n",
      "[5 4 4 ... 6 4 5]\n",
      "[5 5 5 ... 5 6 5]\n",
      "[3 5 4 ... 4 8 3]\n",
      "[6 5 7 ... 7 3 6]\n",
      "[6 4 4 ... 6 7 6]\n",
      "[4 3 8 ... 6 3 8]\n",
      "[6 3 5 ... 6 5 0]\n",
      "[5 6 5 ... 5 7 5]\n",
      "[3 6 4 ... 5 4 3]\n",
      "[4 3 5 ... 8 6 5]\n",
      "[5 8 3 ... 5 5 7]\n",
      "[5 5 6 ... 5 4 5]\n",
      "[4 7 5 ... 3 4 5]\n",
      "[5 5 5 ... 5 5 6]\n",
      "[3 4 6 ... 4 5 4]\n",
      "[5 5 6 ... 4 2 4]\n",
      "[4 4 3 ... 4 4 4]\n",
      "[6 7 4 ... 7 4 3]\n",
      "[4 3 1 ... 6 5 3]\n",
      "[7 5 4 ... 5 4 5]\n",
      "[8 6 5 ... 6 4 3]\n",
      "[5 6 5 ... 5 3 6]\n",
      "[6 3 8 ... 4 3 5]\n"
     ]
    }
   ],
   "source": [
    "sample_mean = []\n",
    "\n",
    "for i in range(1,31):\n",
    "    print(np.random.choice(population, size = size))"
   ]
  },
  {
   "cell_type": "code",
   "execution_count": 276,
   "metadata": {},
   "outputs": [
    {
     "data": {
      "text/plain": [
       "[5.035666666666667,\n",
       " 4.995,\n",
       " 4.997333333333334,\n",
       " 4.959333333333333,\n",
       " 4.956333333333333,\n",
       " 4.958333333333333,\n",
       " 4.959333333333333,\n",
       " 5.004,\n",
       " 4.948,\n",
       " 4.965,\n",
       " 4.943,\n",
       " 4.976666666666667,\n",
       " 4.977666666666667,\n",
       " 4.940666666666667,\n",
       " 4.995666666666667,\n",
       " 4.989333333333334,\n",
       " 4.941,\n",
       " 4.949333333333334,\n",
       " 4.930666666666666,\n",
       " 4.996666666666667,\n",
       " 4.940333333333333,\n",
       " 4.954666666666666,\n",
       " 5.020666666666667,\n",
       " 4.956333333333333,\n",
       " 4.96,\n",
       " 4.963333333333333,\n",
       " 4.989,\n",
       " 4.981,\n",
       " 4.942,\n",
       " 4.960666666666667]"
      ]
     },
     "execution_count": 276,
     "metadata": {},
     "output_type": "execute_result"
    }
   ],
   "source": [
    "sample_mean = []\n",
    "\n",
    "for i in range(1,31):\n",
    "    sample = np.random.choice(population, size = size)\n",
    "    sample_mean.append(np.mean(sample))\n",
    "\n",
    "sample_mean"
   ]
  },
  {
   "cell_type": "code",
   "execution_count": 277,
   "metadata": {},
   "outputs": [
    {
     "data": {
      "text/plain": [
       "<Axes: ylabel='Density'>"
      ]
     },
     "execution_count": 277,
     "metadata": {},
     "output_type": "execute_result"
    },
    {
     "data": {
      "image/png": "[encoded data removed]",
      "text/plain": [
       "<Figure size 640x480 with 1 Axes>"
      ]
     },
     "metadata": {},
     "output_type": "display_data"
    }
   ],
   "source": [
    "sns.distplot(sample_mean)"
   ]
  },
  {
   "cell_type": "code",
   "execution_count": 278,
   "metadata": {},
   "outputs": [],
   "source": [
    "sample_mean = []\n",
    "\n",
    "for i in range(1,100):\n",
    "    sample = np.random.choice(population, size = size)\n",
    "    sample_mean.append(np.mean(sample))\n",
    "\n"
   ]
  },
  {
   "cell_type": "code",
   "execution_count": 279,
   "metadata": {},
   "outputs": [
    {
     "data": {
      "text/plain": [
       "<Axes: ylabel='Density'>"
      ]
     },
     "execution_count": 279,
     "metadata": {},
     "output_type": "execute_result"
    },
    {
     "data": {
      "image/png": "[encoded data removed]",
      "text/plain": [
       "<Figure size 640x480 with 1 Axes>"
      ]
     },
     "metadata": {},
     "output_type": "display_data"
    }
   ],
   "source": [
    "sns.distplot(sample_mean, color = \"brown\")"
   ]
  },
  {
   "cell_type": "code",
   "execution_count": 280,
   "metadata": {},
   "outputs": [],
   "source": [
    "sample_mean = []\n",
    "\n",
    "for i in range(1,501):\n",
    "    sample = np.random.choice(population, size = size)\n",
    "    sample_mean.append(np.mean(sample))\n"
   ]
  },
  {
   "cell_type": "code",
   "execution_count": 281,
   "metadata": {},
   "outputs": [
    {
     "data": {
      "text/plain": [
       "<Axes: ylabel='Density'>"
      ]
     },
     "execution_count": 281,
     "metadata": {},
     "output_type": "execute_result"
    },
    {
     "data": {
      "image/png": "[encoded data removed]",
      "text/plain": [
       "<Figure size 640x480 with 1 Axes>"
      ]
     },
     "metadata": {},
     "output_type": "display_data"
    }
   ],
   "source": [
    "sns.distplot(sample_mean, kde = True, color = \"red\")"
   ]
  },
  {
   "cell_type": "code",
   "execution_count": 282,
   "metadata": {},
   "outputs": [],
   "source": [
    "sample_mean = []\n",
    "\n",
    "for i in range(1,1000):\n",
    "    sample = np.random.choice(population, size = size)\n",
    "    sample_mean.append(np.mean(sample))\n"
   ]
  },
  {
   "cell_type": "code",
   "execution_count": 283,
   "metadata": {},
   "outputs": [
    {
     "data": {
      "text/plain": [
       "<Axes: ylabel='Density'>"
      ]
     },
     "execution_count": 283,
     "metadata": {},
     "output_type": "execute_result"
    },
    {
     "data": {
      "image/png": "[encoded data removed]",
      "text/plain": [
       "<Figure size 640x480 with 1 Axes>"
      ]
     },
     "metadata": {},
     "output_type": "display_data"
    }
   ],
   "source": [
    "sns.distplot(sample_mean, kde = True, color = \"green\")"
   ]
  },
  {
   "cell_type": "code",
   "execution_count": 285,
   "metadata": {},
   "outputs": [
    {
     "data": {
      "text/plain": [
       "4.976122455789122"
      ]
     },
     "execution_count": 285,
     "metadata": {},
     "output_type": "execute_result"
    }
   ],
   "source": [
    "np.mean(sample_mean)"
   ]
  },
  {
   "cell_type": "markdown",
   "metadata": {},
   "source": [
    "### Confidence Interval and Margin Of Error"
   ]
  },
  {
   "cell_type": "code",
   "execution_count": 302,
   "metadata": {},
   "outputs": [],
   "source": [
    "population = np.random.randint(10, 20, 50)"
   ]
  },
  {
   "cell_type": "code",
   "execution_count": 303,
   "metadata": {},
   "outputs": [
    {
     "data": {
      "text/plain": [
       "array([14, 14, 17, 17, 11, 16, 18, 13, 13, 10, 10, 11, 11, 16, 10, 14, 11,\n",
       "       16, 10, 18, 18, 15, 19, 14, 18, 15, 12, 14, 12, 16, 19, 12, 16, 18,\n",
       "       13, 18, 16, 17, 11, 11, 11, 14, 11, 15, 12, 10, 15, 10, 18, 19])"
      ]
     },
     "execution_count": 303,
     "metadata": {},
     "output_type": "execute_result"
    }
   ],
   "source": [
    "population"
   ]
  },
  {
   "cell_type": "code",
   "execution_count": 304,
   "metadata": {},
   "outputs": [],
   "source": [
    "sample1 = np.random.choice(population,20)\n",
    "sample2 = np.random.choice(population,20)\n",
    "sample3 = np.random.choice(population,20)\n",
    "sample4 = np.random.choice(population,20)"
   ]
  },
  {
   "cell_type": "code",
   "execution_count": 308,
   "metadata": {},
   "outputs": [
    {
     "name": "stdout",
     "output_type": "stream",
     "text": [
      "[14.5, 16.1, 13.55, 14.05]\n"
     ]
    }
   ],
   "source": [
    "### mean of all the samples\n",
    "mean_of_samples = []\n",
    "\n",
    "all_samples = [sample1, sample2, sample3, sample4]\n",
    "for i in all_samples:\n",
    "    mean_of_samples.append(np.mean(i))\n",
    "\n",
    "print(mean_of_samples)"
   ]
  },
  {
   "cell_type": "code",
   "execution_count": 288,
   "metadata": {},
   "outputs": [
    {
     "data": {
      "text/plain": [
       "1.6448536269514722"
      ]
     },
     "execution_count": 288,
     "metadata": {},
     "output_type": "execute_result"
    }
   ],
   "source": [
    "### stats.norm.ppf(q=0.95)\n",
    "### stats.norm.ppf(q=0.97)\n",
    "### stats.norm.ppf(q=0.99)"
   ]
  },
  {
   "cell_type": "code",
   "execution_count": 310,
   "metadata": {},
   "outputs": [],
   "source": [
    "z_critical = stats.norm.ppf(q=0.97)"
   ]
  },
  {
   "cell_type": "code",
   "execution_count": 311,
   "metadata": {},
   "outputs": [
    {
     "data": {
      "text/plain": [
       "1.8807936081512509"
      ]
     },
     "execution_count": 311,
     "metadata": {},
     "output_type": "execute_result"
    }
   ],
   "source": [
    "z_critical"
   ]
  },
  {
   "cell_type": "code",
   "execution_count": 312,
   "metadata": {},
   "outputs": [],
   "source": [
    "### df = degree of freedom\n",
    "t_critical = stats.t.ppf(q=0.97, df = 24)"
   ]
  },
  {
   "cell_type": "code",
   "execution_count": 313,
   "metadata": {},
   "outputs": [
    {
     "data": {
      "text/plain": [
       "1.973994288847133"
      ]
     },
     "execution_count": 313,
     "metadata": {},
     "output_type": "execute_result"
    }
   ],
   "source": [
    "t_critical"
   ]
  },
  {
   "cell_type": "code",
   "execution_count": 314,
   "metadata": {},
   "outputs": [],
   "source": [
    "margin_of_error = z_critical * (np.std(mean_of_samples)/np.sqrt(20))"
   ]
  },
  {
   "cell_type": "code",
   "execution_count": 315,
   "metadata": {},
   "outputs": [
    {
     "data": {
      "text/plain": [
       "0.4020127594379128"
      ]
     },
     "execution_count": 315,
     "metadata": {},
     "output_type": "execute_result"
    }
   ],
   "source": [
    "margin_of_error"
   ]
  },
  {
   "cell_type": "code",
   "execution_count": 316,
   "metadata": {},
   "outputs": [
    {
     "data": {
      "text/plain": [
       "14.147987240562088"
      ]
     },
     "execution_count": 316,
     "metadata": {},
     "output_type": "execute_result"
    }
   ],
   "source": [
    "np.mean(mean_of_samples) - margin_of_error"
   ]
  },
  {
   "cell_type": "code",
   "execution_count": 317,
   "metadata": {},
   "outputs": [
    {
     "data": {
      "text/plain": [
       "14.952012759437913"
      ]
     },
     "execution_count": 317,
     "metadata": {},
     "output_type": "execute_result"
    }
   ],
   "source": [
    "np.mean(mean_of_samples) + margin_of_error"
   ]
  },
  {
   "cell_type": "markdown",
   "metadata": {},
   "source": [
    "### Z-Test"
   ]
  },
  {
   "cell_type": "code",
   "execution_count": 344,
   "metadata": {},
   "outputs": [],
   "source": [
    "from numpy.random import randn\n",
    "population = randn(100)"
   ]
  },
  {
   "cell_type": "code",
   "execution_count": 345,
   "metadata": {},
   "outputs": [
    {
     "data": {
      "text/plain": [
       "array([-1.73605231,  0.70401294,  1.10217504,  0.21975375,  0.66487146,\n",
       "        0.7389001 , -0.98335796,  1.04981765, -0.17962651, -0.15939099,\n",
       "       -0.11859013,  0.72298897,  0.11319909, -1.70324491, -0.05797296,\n",
       "        0.95457818, -0.34690368,  1.37156288, -0.75839129,  0.47136449,\n",
       "        1.16259624, -0.02537615, -0.74715016,  0.21959469,  0.16290283,\n",
       "        0.22056544, -0.80567895,  0.79131193, -2.55300124, -1.30568493,\n",
       "       -1.94134988,  1.68007207, -0.85670082, -1.40915091,  1.00660983,\n",
       "       -0.38932379, -1.63811795, -2.53652039, -0.53099699,  0.00512372,\n",
       "        1.35365486, -0.96250669,  0.01980063,  0.47168126,  0.28794698,\n",
       "       -2.16797735,  1.20988814, -0.01154829,  0.02357667,  0.21723112,\n",
       "        0.61917068, -0.21467864,  0.63099446,  0.9862448 , -1.92543218,\n",
       "        0.16246811,  0.15094216,  0.72262886, -0.3183355 ,  0.11530862,\n",
       "        0.56661773,  0.02600204,  0.10599693, -0.11803953,  0.80489946,\n",
       "        0.76950638, -0.58006569,  0.35182925,  0.6675181 ,  0.50454456,\n",
       "       -0.95279861, -0.33331096,  1.26793346, -0.13680856,  0.27147137,\n",
       "       -1.22860146, -0.86430036, -0.37564316,  0.60635161,  0.41271471,\n",
       "        0.35468899,  1.64171539,  0.63586753,  0.65801263,  2.08179181,\n",
       "       -0.56153817,  0.20531738,  0.26343396, -0.27654528,  0.98548224,\n",
       "        1.48401394,  0.89352736,  0.05527938, -0.54125709,  0.76906717,\n",
       "       -0.53926974, -0.18743538, -0.20148906, -0.82863217,  0.33049117])"
      ]
     },
     "execution_count": 345,
     "metadata": {},
     "output_type": "execute_result"
    }
   ],
   "source": [
    "population"
   ]
  },
  {
   "cell_type": "code",
   "execution_count": 346,
   "metadata": {},
   "outputs": [
    {
     "data": {
      "text/plain": [
       "<Axes: ylabel='Density'>"
      ]
     },
     "execution_count": 346,
     "metadata": {},
     "output_type": "execute_result"
    },
    {
     "data": {
      "image/png": "[encoded data removed]",
      "text/plain": [
       "<Figure size 640x480 with 1 Axes>"
      ]
     },
     "metadata": {},
     "output_type": "display_data"
    }
   ],
   "source": [
    "sns.distplot(population)"
   ]
  },
  {
   "cell_type": "code",
   "execution_count": 349,
   "metadata": {},
   "outputs": [
    {
     "name": "stdout",
     "output_type": "stream",
     "text": [
      "The mean of the population is 0.029388164080282008 and the standard deviation of the population is 0.9206598177856814\n"
     ]
    }
   ],
   "source": [
    "print(f\"The mean of the population is {np.mean(population)} and the standard deviation of the population is {np.std(population)}\")"
   ]
  },
  {
   "cell_type": "code",
   "execution_count": 359,
   "metadata": {},
   "outputs": [],
   "source": [
    "null_mean =  0.029"
   ]
  },
  {
   "cell_type": "code",
   "execution_count": 350,
   "metadata": {},
   "outputs": [],
   "source": [
    "### C.I = 95%\n",
    "### ALPHA = 0.05(5%)"
   ]
  },
  {
   "cell_type": "code",
   "execution_count": 351,
   "metadata": {},
   "outputs": [],
   "source": [
    "### P<=0.05  Reject the null hypothesis\n",
    "### P>0.05 you are going to accept the  null hypothesis"
   ]
  },
  {
   "cell_type": "code",
   "execution_count": 352,
   "metadata": {},
   "outputs": [],
   "source": [
    "### P <= ALPHA\n",
    "### P > ALPHA"
   ]
  },
  {
   "cell_type": "code",
   "execution_count": 366,
   "metadata": {},
   "outputs": [],
   "source": [
    "from statsmodels.stats.weightstats import ztest\n",
    "z_score, p_value = ztest(population, value = null_mean, alternative = \"larger\")"
   ]
  },
  {
   "cell_type": "code",
   "execution_count": 367,
   "metadata": {},
   "outputs": [
    {
     "data": {
      "text/plain": [
       "0.004195017268653611"
      ]
     },
     "execution_count": 367,
     "metadata": {},
     "output_type": "execute_result"
    }
   ],
   "source": [
    "z_score"
   ]
  },
  {
   "cell_type": "code",
   "execution_count": 368,
   "metadata": {},
   "outputs": [
    {
     "data": {
      "text/plain": [
       "0.49832643515313446"
      ]
     },
     "execution_count": 368,
     "metadata": {},
     "output_type": "execute_result"
    }
   ],
   "source": [
    "p_value"
   ]
  },
  {
   "cell_type": "code",
   "execution_count": 364,
   "metadata": {},
   "outputs": [],
   "source": [
    "alpha = 0.05"
   ]
  },
  {
   "cell_type": "code",
   "execution_count": 365,
   "metadata": {},
   "outputs": [
    {
     "name": "stdout",
     "output_type": "stream",
     "text": [
      "We are going to accept the null hypothesis\n"
     ]
    }
   ],
   "source": [
    "if (p_value < alpha):\n",
    "    print(\"Reject the null hypothesis\")\n",
    "else:\n",
    "    print(\"We are going to accept the null hypothesis\")"
   ]
  },
  {
   "cell_type": "code",
   "execution_count": null,
   "metadata": {},
   "outputs": [],
   "source": []
  }
 ],
 "metadata": {
  "kernelspec": {
   "display_name": "Python 3",
   "language": "python",
   "name": "python3"
  },
  "language_info": {
   "codemirror_mode": {
    "name": "ipython",
    "version": 3
   },
   "file_extension": ".py",
   "mimetype": "text/x-python",
   "name": "python",
   "nbconvert_exporter": "python",
   "pygments_lexer": "ipython3",
   "version": "3.11.2"
  },
  "orig_nbformat": 4
 },
 "nbformat": 4,
 "nbformat_minor": 2
}
